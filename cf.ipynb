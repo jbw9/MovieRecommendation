{
 "cells": [
  {
   "cell_type": "markdown",
   "id": "5679283f",
   "metadata": {},
   "source": [
    "# Exploring Collaborative Filtering"
   ]
  },
  {
   "cell_type": "markdown",
   "id": "28df0f1d",
   "metadata": {},
   "source": [
    "### By developing a movie recommendation system"
   ]
  },
  {
   "cell_type": "markdown",
   "id": "c2df338b",
   "metadata": {},
   "source": [
    "### Movie Dataset\n",
    "Dataset source - http://files.grouplens.org/datasets/movielens/ml-latest-small.zip"
   ]
  },
  {
   "cell_type": "code",
   "execution_count": 114,
   "id": "8aca1890",
   "metadata": {},
   "outputs": [],
   "source": [
    "import pandas as pd\n",
    "import numpy as np"
   ]
  },
  {
   "cell_type": "code",
   "execution_count": 115,
   "id": "8239e5f0",
   "metadata": {},
   "outputs": [
    {
     "data": {
      "text/html": [
       "<div>\n",
       "<style scoped>\n",
       "    .dataframe tbody tr th:only-of-type {\n",
       "        vertical-align: middle;\n",
       "    }\n",
       "\n",
       "    .dataframe tbody tr th {\n",
       "        vertical-align: top;\n",
       "    }\n",
       "\n",
       "    .dataframe thead th {\n",
       "        text-align: right;\n",
       "    }\n",
       "</style>\n",
       "<table border=\"1\" class=\"dataframe\">\n",
       "  <thead>\n",
       "    <tr style=\"text-align: right;\">\n",
       "      <th></th>\n",
       "      <th>userId</th>\n",
       "      <th>movieId</th>\n",
       "      <th>rating</th>\n",
       "      <th>timestamp</th>\n",
       "    </tr>\n",
       "  </thead>\n",
       "  <tbody>\n",
       "    <tr>\n",
       "      <th>0</th>\n",
       "      <td>1</td>\n",
       "      <td>1</td>\n",
       "      <td>4.0</td>\n",
       "      <td>964982703</td>\n",
       "    </tr>\n",
       "    <tr>\n",
       "      <th>1</th>\n",
       "      <td>1</td>\n",
       "      <td>3</td>\n",
       "      <td>4.0</td>\n",
       "      <td>964981247</td>\n",
       "    </tr>\n",
       "    <tr>\n",
       "      <th>2</th>\n",
       "      <td>1</td>\n",
       "      <td>6</td>\n",
       "      <td>4.0</td>\n",
       "      <td>964982224</td>\n",
       "    </tr>\n",
       "    <tr>\n",
       "      <th>3</th>\n",
       "      <td>1</td>\n",
       "      <td>47</td>\n",
       "      <td>5.0</td>\n",
       "      <td>964983815</td>\n",
       "    </tr>\n",
       "    <tr>\n",
       "      <th>4</th>\n",
       "      <td>1</td>\n",
       "      <td>50</td>\n",
       "      <td>5.0</td>\n",
       "      <td>964982931</td>\n",
       "    </tr>\n",
       "    <tr>\n",
       "      <th>...</th>\n",
       "      <td>...</td>\n",
       "      <td>...</td>\n",
       "      <td>...</td>\n",
       "      <td>...</td>\n",
       "    </tr>\n",
       "    <tr>\n",
       "      <th>100831</th>\n",
       "      <td>610</td>\n",
       "      <td>166534</td>\n",
       "      <td>4.0</td>\n",
       "      <td>1493848402</td>\n",
       "    </tr>\n",
       "    <tr>\n",
       "      <th>100832</th>\n",
       "      <td>610</td>\n",
       "      <td>168248</td>\n",
       "      <td>5.0</td>\n",
       "      <td>1493850091</td>\n",
       "    </tr>\n",
       "    <tr>\n",
       "      <th>100833</th>\n",
       "      <td>610</td>\n",
       "      <td>168250</td>\n",
       "      <td>5.0</td>\n",
       "      <td>1494273047</td>\n",
       "    </tr>\n",
       "    <tr>\n",
       "      <th>100834</th>\n",
       "      <td>610</td>\n",
       "      <td>168252</td>\n",
       "      <td>5.0</td>\n",
       "      <td>1493846352</td>\n",
       "    </tr>\n",
       "    <tr>\n",
       "      <th>100835</th>\n",
       "      <td>610</td>\n",
       "      <td>170875</td>\n",
       "      <td>3.0</td>\n",
       "      <td>1493846415</td>\n",
       "    </tr>\n",
       "  </tbody>\n",
       "</table>\n",
       "<p>100836 rows × 4 columns</p>\n",
       "</div>"
      ],
      "text/plain": [
       "        userId  movieId  rating   timestamp\n",
       "0            1        1     4.0   964982703\n",
       "1            1        3     4.0   964981247\n",
       "2            1        6     4.0   964982224\n",
       "3            1       47     5.0   964983815\n",
       "4            1       50     5.0   964982931\n",
       "...        ...      ...     ...         ...\n",
       "100831     610   166534     4.0  1493848402\n",
       "100832     610   168248     5.0  1493850091\n",
       "100833     610   168250     5.0  1494273047\n",
       "100834     610   168252     5.0  1493846352\n",
       "100835     610   170875     3.0  1493846415\n",
       "\n",
       "[100836 rows x 4 columns]"
      ]
     },
     "execution_count": 115,
     "metadata": {},
     "output_type": "execute_result"
    }
   ],
   "source": [
    "ratings = pd.read_csv('ml-latest-small/ratings.csv')\n",
    "ratings"
   ]
  },
  {
   "cell_type": "markdown",
   "id": "b8eb6656",
   "metadata": {},
   "source": [
    "### Splitting data for training and validation"
   ]
  },
  {
   "cell_type": "code",
   "execution_count": 116,
   "id": "453bfbf0",
   "metadata": {},
   "outputs": [],
   "source": [
    "np.random.seed(3)\n",
    "msk = np.random.rand(len(ratings)) < 0.8\n",
    "train = ratings[msk].copy()\n",
    "val = ratings[~msk].copy()"
   ]
  },
  {
   "cell_type": "markdown",
   "id": "f43fb417",
   "metadata": {},
   "source": [
    "### Encode data\n",
    "Encode data with continous user and movie ids, if train is passed to the function call, we encode df with the same encoding as train"
   ]
  },
  {
   "cell_type": "code",
   "execution_count": 117,
   "id": "90b97e52",
   "metadata": {},
   "outputs": [],
   "source": [
    "def proc_col(col, train_col=None):\n",
    "  # use training col if available\n",
    "  if train_col is not None:\n",
    "    uniq = train_col.unique()\n",
    "  else:\n",
    "    uniq = col.unique()\n",
    "\n",
    "  # mapping value to index\n",
    "  name2idx = {}\n",
    "  for index, val in enumerate(uniq):\n",
    "    name2idx[val] = index\n",
    "  arr = []\n",
    "  for x in col:\n",
    "    # uknown ids get encoded as -1\n",
    "    arr.append(name2idx.get(x, -1))\n",
    "  arr = np.array(arr)\n",
    "  return name2idx, arr, len(uniq) # understanding mapping, encoded array, number of unique categories\n",
    "\n",
    "def encode_data(df, train=None):\n",
    "  df = df.copy()\n",
    "  for col_name in [\"userId\", \"movieId\"]:\n",
    "    train_col = None\n",
    "    if train is not None:\n",
    "      train_col = train[col_name]\n",
    "    _, col, _ = proc_col(df[col_name], train_col)\n",
    "    df[col_name] = col\n",
    "\n",
    "    # removing the unknowns (value of -1)\n",
    "    df = df[df[col_name] >= 0]\n",
    "  return df"
   ]
  },
  {
   "cell_type": "code",
   "execution_count": 118,
   "id": "6a0af1b8",
   "metadata": {},
   "outputs": [],
   "source": [
    "df_train = encode_data(train)\n",
    "df_val = encode_data(val)"
   ]
  },
  {
   "cell_type": "markdown",
   "id": "6c943845",
   "metadata": {},
   "source": [
    "### Embedding Layer"
   ]
  },
  {
   "cell_type": "code",
   "execution_count": 119,
   "id": "85ca8966",
   "metadata": {},
   "outputs": [],
   "source": [
    "import torch\n",
    "import torch.nn as nn\n",
    "import torch.nn.functional as F"
   ]
  },
  {
   "cell_type": "code",
   "execution_count": 120,
   "id": "7e4b593d",
   "metadata": {},
   "outputs": [],
   "source": [
    "# creating embedding layer (matrix) with 10 rows and 3 columns\n",
    "# first filled with random numbers, so model can learn later during training\n",
    "embed = nn.Embedding(10, 3)"
   ]
  },
  {
   "cell_type": "markdown",
   "id": "057ffa62",
   "metadata": {},
   "source": [
    "### Matrix Factorization Model"
   ]
  },
  {
   "cell_type": "code",
   "execution_count": 121,
   "id": "2df4bb08",
   "metadata": {},
   "outputs": [],
   "source": [
    "class MF(nn.Module):\n",
    "  def __init__(self, num_users, num_items, emb_size=100):\n",
    "    super(MF, self).__init__()\n",
    "    # lookup table for all users\n",
    "    self.user_emb = nn.Embedding(num_users, emb_size)\n",
    "\n",
    "    # lookup table for all items\n",
    "    self.item_emb = nn.Embedding(num_items, emb_size)\n",
    "\n",
    "    # initialize each randomly\n",
    "    self.user_emb.weight.data.uniform_(0, 0.05)\n",
    "    self.item_emb.weight.data.uniform_(0, 0.05)\n",
    "      \n",
    "  def forward(self, u, v):\n",
    "    # replace each row with the embedding layer row\n",
    "    u = self.user_emb(u)\n",
    "    v = self.item_emb(v)\n",
    "\n",
    "    # dot product of u and v\n",
    "    return (u*v).sum(1)   "
   ]
  },
  {
   "cell_type": "markdown",
   "id": "225c02f7",
   "metadata": {},
   "source": [
    "### Training the MF model"
   ]
  },
  {
   "cell_type": "code",
   "execution_count": 122,
   "id": "7731ccc2",
   "metadata": {},
   "outputs": [
    {
     "name": "stdout",
     "output_type": "stream",
     "text": [
      "num users: 610\n",
      "num items: 8998\n"
     ]
    }
   ],
   "source": [
    "\n",
    "num_users = len(df_train.userId.unique())\n",
    "num_items = len(df_train.movieId.unique())\n",
    "print(\"num users:\", num_users)\n",
    "print(\"num items:\", num_items)"
   ]
  },
  {
   "cell_type": "code",
   "execution_count": 123,
   "id": "b15789bf",
   "metadata": {},
   "outputs": [],
   "source": [
    "# initialize the new matrix factorization model\n",
    "model = MF(num_users, num_items, emb_size=100)"
   ]
  },
  {
   "cell_type": "code",
   "execution_count": 124,
   "id": "71789eab",
   "metadata": {},
   "outputs": [],
   "source": [
    "# check how good the current model is without changing anything\n",
    "def test_loss(model, unsqueeze=False):\n",
    "  model.eval()\n",
    "  users = torch.LongTensor(df_val['userId'].values)\n",
    "  items = torch.LongTensor(df_val['movieId'].values)\n",
    "  ratings = torch.FloatTensor(df_val['rating'].values)\n",
    "  if unsqueeze:\n",
    "    ratings = ratings.unsqueeze(1)\n",
    "  y_hat = model(users, items)\n",
    "  loss = F.mse_loss(y_hat, ratings)\n",
    "  print(f\"test loss: {loss.item():.4f}\")"
   ]
  },
  {
   "cell_type": "code",
   "execution_count": 125,
   "id": "86518a57",
   "metadata": {},
   "outputs": [],
   "source": [
    "# lr: learning rate for Adam (speed of learning)\n",
    "# wd: weight decay (L2 regularization) applied by Adam to all model params (your embeddings).\n",
    "# unsqueeze: whether to reshape targets from shape [N] to [N,1] to match model output if needed.\n",
    "def train_epocs(model, epochs=10, lr=0.01, wd=0.0, unsqueeze=False):\n",
    "  optimizer = torch.optim.Adam(model.parameters(), lr=lr, weight_decay=wd)\n",
    "  model.train()\n",
    "  for i in range(epochs):\n",
    "    # convert each dataframe columns into pytorch tensors\n",
    "    users = torch.LongTensor(df_train['userId'].values)\n",
    "    items = torch.LongTensor(df_train['movieId'].values)\n",
    "    ratings = torch.FloatTensor(df_train['rating'].values)\n",
    "\n",
    "    # unsqueeze if we need to match dimensions\n",
    "    if unsqueeze:\n",
    "      ratings = ratings.unsqueeze(1)\n",
    "\n",
    "    # forward pass - predict ratings using the dot product of embeddings\n",
    "    y_hat = model(users, items)\n",
    "\n",
    "    # compute the mean squared error between predicted and actual ratings\n",
    "    loss = F.mse_loss(y_hat, ratings)\n",
    "\n",
    "    # clear previously stored gradients\n",
    "    optimizer.zero_grad()\n",
    "\n",
    "    # compute gradients for all model parameters\n",
    "    loss.backward()\n",
    "\n",
    "    # updating embeddings (weights) using the computed gradients\n",
    "    # to reduce training loss by adjusting parameters\n",
    "    optimizer.step()\n",
    "    print(f\"Epoch {i+1}/{epochs}, Loss: {loss.item():.4f}\")\n",
    "  test_loss(model, unsqueeze)"
   ]
  },
  {
   "cell_type": "markdown",
   "id": "f764f434",
   "metadata": {},
   "source": [
    "### Testing different configurations"
   ]
  },
  {
   "cell_type": "code",
   "execution_count": 126,
   "id": "bbc0eee6",
   "metadata": {},
   "outputs": [
    {
     "name": "stdout",
     "output_type": "stream",
     "text": [
      "Epoch 1/10, Loss: 12.9140\n",
      "Epoch 2/10, Loss: 4.8572\n",
      "Epoch 3/10, Loss: 2.5778\n",
      "Epoch 4/10, Loss: 3.1057\n",
      "Epoch 5/10, Loss: 0.8492\n",
      "Epoch 6/10, Loss: 1.8183\n",
      "Epoch 7/10, Loss: 2.6539\n",
      "Epoch 8/10, Loss: 2.1326\n",
      "Epoch 9/10, Loss: 1.0869\n",
      "Epoch 10/10, Loss: 0.9740\n",
      "test loss: 3.0683\n"
     ]
    }
   ],
   "source": [
    "train_epocs(model, epochs=10, lr=0.1)"
   ]
  },
  {
   "cell_type": "code",
   "execution_count": 127,
   "id": "1d597358",
   "metadata": {},
   "outputs": [
    {
     "name": "stdout",
     "output_type": "stream",
     "text": [
      "Epoch 1/15, Loss: 1.6437\n",
      "Epoch 2/15, Loss: 5.7090\n",
      "Epoch 3/15, Loss: 4.1261\n",
      "Epoch 4/15, Loss: 1.0724\n",
      "Epoch 5/15, Loss: 2.8327\n",
      "Epoch 6/15, Loss: 2.4845\n",
      "Epoch 7/15, Loss: 0.7608\n",
      "Epoch 8/15, Loss: 1.2345\n",
      "Epoch 9/15, Loss: 2.0833\n",
      "Epoch 10/15, Loss: 1.9896\n",
      "Epoch 11/15, Loss: 1.1983\n",
      "Epoch 12/15, Loss: 0.6940\n",
      "Epoch 13/15, Loss: 1.0968\n",
      "Epoch 14/15, Loss: 1.4018\n",
      "Epoch 15/15, Loss: 0.9383\n",
      "test loss: 1.4314\n"
     ]
    }
   ],
   "source": [
    "train_epocs(model, epochs=15, lr=0.1)"
   ]
  },
  {
   "cell_type": "code",
   "execution_count": 128,
   "id": "9af86c48",
   "metadata": {},
   "outputs": [
    {
     "name": "stdout",
     "output_type": "stream",
     "text": [
      "Epoch 1/15, Loss: 0.6304\n",
      "Epoch 2/15, Loss: 0.5552\n",
      "Epoch 3/15, Loss: 0.5358\n",
      "Epoch 4/15, Loss: 0.5259\n",
      "Epoch 5/15, Loss: 0.5131\n",
      "Epoch 6/15, Loss: 0.4974\n",
      "Epoch 7/15, Loss: 0.4814\n",
      "Epoch 8/15, Loss: 0.4658\n",
      "Epoch 9/15, Loss: 0.4507\n",
      "Epoch 10/15, Loss: 0.4357\n",
      "Epoch 11/15, Loss: 0.4205\n",
      "Epoch 12/15, Loss: 0.4050\n",
      "Epoch 13/15, Loss: 0.3889\n",
      "Epoch 14/15, Loss: 0.3726\n",
      "Epoch 15/15, Loss: 0.3561\n",
      "test loss: 1.4054\n"
     ]
    }
   ],
   "source": [
    "train_epocs(model, epochs=15, lr=0.01)"
   ]
  },
  {
   "cell_type": "markdown",
   "id": "36594ad2",
   "metadata": {},
   "source": [
    "### Matrix Factorization with bias\n",
    "Currently we assume that all users give ratings centered around the same average and all movies have the same baseline popularity, however this is not true in real life.\n",
    "\n",
    "Some users are naturally more generous raters forexample they always rate higher and some movies are generally loved by everyone. By adding the bias we can \"normalize\" these values to increase the accuracy of the model."
   ]
  },
  {
   "cell_type": "code",
   "execution_count": 129,
   "id": "48e8525e",
   "metadata": {},
   "outputs": [],
   "source": [
    "class MF_bias(nn.Module):\n",
    "    def __init__(self, num_users, num_items, emb_size=100):\n",
    "        super(MF_bias, self).__init__()\n",
    "        self.user_emb = nn.Embedding(num_users, emb_size)\n",
    "        self.user_bias = nn.Embedding(num_users, 1)\n",
    "        self.item_emb = nn.Embedding(num_items, emb_size)\n",
    "        self.item_bias = nn.Embedding(num_items, 1)\n",
    "        self.user_emb.weight.data.uniform_(0,0.05)\n",
    "        self.item_emb.weight.data.uniform_(0,0.05)\n",
    "        self.user_bias.weight.data.uniform_(-0.01,0.01)\n",
    "        self.item_bias.weight.data.uniform_(-0.01,0.01)\n",
    "        \n",
    "    def forward(self, u, v):\n",
    "        U = self.user_emb(u)\n",
    "        V = self.item_emb(v)\n",
    "        # bias for how much a user tends to rate higher or lower than average\n",
    "        b_u = self.user_bias(u).squeeze()\n",
    "        # bias for how much an item tends to be rated higher or lower than average\n",
    "        b_v = self.item_bias(v).squeeze()\n",
    "        return (U*V).sum(1) +  b_u  + b_v"
   ]
  },
  {
   "cell_type": "code",
   "execution_count": 130,
   "id": "05c0b538",
   "metadata": {},
   "outputs": [],
   "source": [
    "model = MF_bias(num_users, num_items, emb_size=100)"
   ]
  },
  {
   "cell_type": "code",
   "execution_count": 131,
   "id": "e0dd6fe9",
   "metadata": {},
   "outputs": [
    {
     "name": "stdout",
     "output_type": "stream",
     "text": [
      "Epoch 1/10, Loss: 12.9126\n",
      "Epoch 2/10, Loss: 9.1550\n",
      "Epoch 3/10, Loss: 4.3890\n",
      "Epoch 4/10, Loss: 1.1587\n",
      "Epoch 5/10, Loss: 2.4673\n",
      "Epoch 6/10, Loss: 3.7430\n",
      "Epoch 7/10, Loss: 2.4491\n",
      "Epoch 8/10, Loss: 1.0787\n",
      "Epoch 9/10, Loss: 0.8159\n",
      "Epoch 10/10, Loss: 1.3178\n",
      "test loss: 2.8496\n"
     ]
    }
   ],
   "source": [
    "train_epocs(model, epochs=10, lr=0.05, wd=1e-5)"
   ]
  },
  {
   "cell_type": "code",
   "execution_count": 132,
   "id": "71bf4040",
   "metadata": {},
   "outputs": [
    {
     "name": "stdout",
     "output_type": "stream",
     "text": [
      "Epoch 1/10, Loss: 1.8932\n",
      "Epoch 2/10, Loss: 1.3251\n",
      "Epoch 3/10, Loss: 0.9354\n",
      "Epoch 4/10, Loss: 0.7452\n",
      "Epoch 5/10, Loss: 0.7225\n",
      "Epoch 6/10, Loss: 0.7772\n",
      "Epoch 7/10, Loss: 0.8225\n",
      "Epoch 8/10, Loss: 0.8215\n",
      "Epoch 9/10, Loss: 0.7811\n",
      "Epoch 10/10, Loss: 0.7274\n",
      "test loss: 1.2240\n"
     ]
    }
   ],
   "source": [
    "train_epocs(model, epochs=10, lr=0.01, wd=1e-5)"
   ]
  },
  {
   "cell_type": "code",
   "execution_count": 133,
   "id": "8de478b2",
   "metadata": {},
   "outputs": [
    {
     "name": "stdout",
     "output_type": "stream",
     "text": [
      "Epoch 1/10, Loss: 0.6853\n",
      "Epoch 2/10, Loss: 0.6711\n",
      "Epoch 3/10, Loss: 0.6592\n",
      "Epoch 4/10, Loss: 0.6494\n",
      "Epoch 5/10, Loss: 0.6416\n",
      "Epoch 6/10, Loss: 0.6355\n",
      "Epoch 7/10, Loss: 0.6308\n",
      "Epoch 8/10, Loss: 0.6273\n",
      "Epoch 9/10, Loss: 0.6248\n",
      "Epoch 10/10, Loss: 0.6230\n",
      "test loss: 1.2160\n"
     ]
    }
   ],
   "source": [
    "train_epocs(model, epochs=10, lr=0.001, wd=1e-5)"
   ]
  },
  {
   "cell_type": "markdown",
   "id": "592fbb76",
   "metadata": {},
   "source": [
    "### Neural Network Model\n",
    "Neural Network Models can learn nonlinear interactions between users and items not just pure similarity like using the Matrix Factorization"
   ]
  },
  {
   "cell_type": "code",
   "execution_count": 134,
   "id": "fe08dead",
   "metadata": {},
   "outputs": [],
   "source": [
    "class CollabFNet(nn.Module):\n",
    "    def __init__(self, num_users, num_items, emb_size=100, n_hidden=10):\n",
    "        super(CollabFNet, self).__init__()\n",
    "        self.user_emb = nn.Embedding(num_users, emb_size)\n",
    "        self.item_emb = nn.Embedding(num_items, emb_size)\n",
    "        self.lin1 = nn.Linear(emb_size*2, n_hidden)\n",
    "        self.lin2 = nn.Linear(n_hidden, 1)\n",
    "        self.drop1 = nn.Dropout(0.1)\n",
    "        \n",
    "    def forward(self, u, v):\n",
    "        U = self.user_emb(u)\n",
    "        V = self.item_emb(v)\n",
    "        x = F.relu(torch.cat([U, V], dim=1))\n",
    "        x = self.drop1(x)\n",
    "        x = F.relu(self.lin1(x))\n",
    "        x = self.lin2(x)\n",
    "        return x"
   ]
  },
  {
   "cell_type": "code",
   "execution_count": 135,
   "id": "c6d3e59b",
   "metadata": {},
   "outputs": [],
   "source": [
    "model = CollabFNet(num_users, num_items, emb_size=100)"
   ]
  },
  {
   "cell_type": "code",
   "execution_count": 136,
   "id": "172daf40",
   "metadata": {},
   "outputs": [
    {
     "name": "stdout",
     "output_type": "stream",
     "text": [
      "Epoch 1/15, Loss: 11.0653\n",
      "Epoch 2/15, Loss: 5.7462\n",
      "Epoch 3/15, Loss: 1.3388\n",
      "Epoch 4/15, Loss: 3.2856\n",
      "Epoch 5/15, Loss: 2.7545\n",
      "Epoch 6/15, Loss: 1.3073\n",
      "Epoch 7/15, Loss: 1.2815\n",
      "Epoch 8/15, Loss: 1.9777\n",
      "Epoch 9/15, Loss: 1.5293\n",
      "Epoch 10/15, Loss: 0.9360\n",
      "Epoch 11/15, Loss: 1.0160\n",
      "Epoch 12/15, Loss: 1.3137\n",
      "Epoch 13/15, Loss: 1.3448\n",
      "Epoch 14/15, Loss: 1.0803\n",
      "Epoch 15/15, Loss: 0.7891\n",
      "test loss: 1.0431\n"
     ]
    }
   ],
   "source": [
    "train_epocs(model, epochs=15, lr=0.05, wd=1e-6, unsqueeze=True)"
   ]
  },
  {
   "cell_type": "code",
   "execution_count": 137,
   "id": "c8e4b5e5",
   "metadata": {},
   "outputs": [
    {
     "name": "stdout",
     "output_type": "stream",
     "text": [
      "Epoch 1/10, Loss: 0.7910\n",
      "Epoch 2/10, Loss: 0.9388\n",
      "Epoch 3/10, Loss: 0.7961\n",
      "Epoch 4/10, Loss: 0.7277\n",
      "Epoch 5/10, Loss: 0.8083\n",
      "Epoch 6/10, Loss: 0.7846\n",
      "Epoch 7/10, Loss: 0.7158\n",
      "Epoch 8/10, Loss: 0.7126\n",
      "Epoch 9/10, Loss: 0.7488\n",
      "Epoch 10/10, Loss: 0.7465\n",
      "test loss: 1.0677\n"
     ]
    }
   ],
   "source": [
    "train_epocs(model, epochs=10, lr=0.01, wd=1e-6, unsqueeze=True)"
   ]
  },
  {
   "cell_type": "code",
   "execution_count": 138,
   "id": "73d2e6a1",
   "metadata": {},
   "outputs": [
    {
     "name": "stdout",
     "output_type": "stream",
     "text": [
      "Epoch 1/10, Loss: 0.7108\n",
      "Epoch 2/10, Loss: 0.6964\n",
      "Epoch 3/10, Loss: 0.6903\n",
      "Epoch 4/10, Loss: 0.6917\n",
      "Epoch 5/10, Loss: 0.6943\n",
      "Epoch 6/10, Loss: 0.6953\n",
      "Epoch 7/10, Loss: 0.6941\n",
      "Epoch 8/10, Loss: 0.6905\n",
      "Epoch 9/10, Loss: 0.6877\n",
      "Epoch 10/10, Loss: 0.6863\n",
      "test loss: 1.0497\n"
     ]
    }
   ],
   "source": [
    "train_epocs(model, epochs=10, lr=0.001, wd=1e-6, unsqueeze=True)"
   ]
  },
  {
   "cell_type": "markdown",
   "id": "c07163fa",
   "metadata": {},
   "source": [
    "### Recommend movies based on my preferences"
   ]
  },
  {
   "cell_type": "code",
   "execution_count": 139,
   "id": "225c8728",
   "metadata": {},
   "outputs": [
    {
     "name": "stdout",
     "output_type": "stream",
     "text": [
      "Total movies available: 9742\n"
     ]
    },
    {
     "data": {
      "text/html": [
       "<div>\n",
       "<style scoped>\n",
       "    .dataframe tbody tr th:only-of-type {\n",
       "        vertical-align: middle;\n",
       "    }\n",
       "\n",
       "    .dataframe tbody tr th {\n",
       "        vertical-align: top;\n",
       "    }\n",
       "\n",
       "    .dataframe thead th {\n",
       "        text-align: right;\n",
       "    }\n",
       "</style>\n",
       "<table border=\"1\" class=\"dataframe\">\n",
       "  <thead>\n",
       "    <tr style=\"text-align: right;\">\n",
       "      <th></th>\n",
       "      <th>movieId</th>\n",
       "      <th>title</th>\n",
       "      <th>genres</th>\n",
       "    </tr>\n",
       "  </thead>\n",
       "  <tbody>\n",
       "    <tr>\n",
       "      <th>0</th>\n",
       "      <td>1</td>\n",
       "      <td>Toy Story (1995)</td>\n",
       "      <td>Adventure|Animation|Children|Comedy|Fantasy</td>\n",
       "    </tr>\n",
       "    <tr>\n",
       "      <th>1</th>\n",
       "      <td>2</td>\n",
       "      <td>Jumanji (1995)</td>\n",
       "      <td>Adventure|Children|Fantasy</td>\n",
       "    </tr>\n",
       "    <tr>\n",
       "      <th>2</th>\n",
       "      <td>3</td>\n",
       "      <td>Grumpier Old Men (1995)</td>\n",
       "      <td>Comedy|Romance</td>\n",
       "    </tr>\n",
       "    <tr>\n",
       "      <th>3</th>\n",
       "      <td>4</td>\n",
       "      <td>Waiting to Exhale (1995)</td>\n",
       "      <td>Comedy|Drama|Romance</td>\n",
       "    </tr>\n",
       "    <tr>\n",
       "      <th>4</th>\n",
       "      <td>5</td>\n",
       "      <td>Father of the Bride Part II (1995)</td>\n",
       "      <td>Comedy</td>\n",
       "    </tr>\n",
       "  </tbody>\n",
       "</table>\n",
       "</div>"
      ],
      "text/plain": [
       "   movieId                               title  \\\n",
       "0        1                    Toy Story (1995)   \n",
       "1        2                      Jumanji (1995)   \n",
       "2        3             Grumpier Old Men (1995)   \n",
       "3        4            Waiting to Exhale (1995)   \n",
       "4        5  Father of the Bride Part II (1995)   \n",
       "\n",
       "                                        genres  \n",
       "0  Adventure|Animation|Children|Comedy|Fantasy  \n",
       "1                   Adventure|Children|Fantasy  \n",
       "2                               Comedy|Romance  \n",
       "3                         Comedy|Drama|Romance  \n",
       "4                                       Comedy  "
      ]
     },
     "execution_count": 139,
     "metadata": {},
     "output_type": "execute_result"
    }
   ],
   "source": [
    "# load movie titles\n",
    "movies = pd.read_csv('ml-latest-small/movies.csv')\n",
    "print(f\"Total movies available: {len(movies)}\")\n",
    "movies.head()"
   ]
  },
  {
   "cell_type": "markdown",
   "id": "fe07279e",
   "metadata": {},
   "source": [
    "I want the user to rate 5 movies, but a problem is that I don't know what 5 movies they've watched previously. So giving 5 random movies for them to rate won't work. So my solution to this problem is to make a list of the top 50 most popular movies in the dataset. Now users can just pick at least 5 movies from this list. Picking more movies will make the recommnendation more accurate."
   ]
  },
  {
   "cell_type": "code",
   "execution_count": 140,
   "id": "4b5e4da3",
   "metadata": {},
   "outputs": [
    {
     "name": "stdout",
     "output_type": "stream",
     "text": [
      "TOP 50 MOST POPULAR MOVIES IN THE DATASET\n",
      "Pick movies you've watched from this list\n",
      " 1. Forrest Gump (1994)                                | Genres: Comedy|Drama|Romance|War\n",
      " 2. Shawshank Redemption, The (1994)                   | Genres: Crime|Drama\n",
      " 3. Pulp Fiction (1994)                                | Genres: Comedy|Crime|Drama|Thriller\n",
      " 4. Silence of the Lambs, The (1991)                   | Genres: Crime|Horror|Thriller\n",
      " 5. Matrix, The (1999)                                 | Genres: Action|Sci-Fi|Thriller\n",
      " 6. Star Wars: Episode IV - A New Hope (1977)          | Genres: Action|Adventure|Sci-Fi\n",
      " 7. Jurassic Park (1993)                               | Genres: Action|Adventure|Sci-Fi|Thriller\n",
      " 8. Braveheart (1995)                                  | Genres: Action|Drama|War\n",
      " 9. Terminator 2: Judgment Day (1991)                  | Genres: Action|Sci-Fi\n",
      "10. Schindler's List (1993)                            | Genres: Drama|War\n",
      "11. Fight Club (1999)                                  | Genres: Action|Crime|Drama|Thriller\n",
      "12. Toy Story (1995)                                   | Genres: Adventure|Animation|Children|Comedy|Fantasy\n",
      "13. Star Wars: Episode V - The Empire Strikes Back (1980) | Genres: Action|Adventure|Sci-Fi\n",
      "14. Usual Suspects, The (1995)                         | Genres: Crime|Mystery|Thriller\n",
      "15. American Beauty (1999)                             | Genres: Drama|Romance\n",
      "16. Seven (a.k.a. Se7en) (1995)                        | Genres: Mystery|Thriller\n",
      "17. Independence Day (a.k.a. ID4) (1996)               | Genres: Action|Adventure|Sci-Fi|Thriller\n",
      "18. Apollo 13 (1995)                                   | Genres: Adventure|Drama|IMAX\n",
      "19. Raiders of the Lost Ark (Indiana Jones and the Raiders of the Lost Ark) (1981) | Genres: Action|Adventure\n",
      "20. Lord of the Rings: The Fellowship of the Ring, The (2001) | Genres: Adventure|Fantasy\n",
      "21. Star Wars: Episode VI - Return of the Jedi (1983)  | Genres: Action|Adventure|Sci-Fi\n",
      "22. Godfather, The (1972)                              | Genres: Crime|Drama\n",
      "23. Fugitive, The (1993)                               | Genres: Thriller\n",
      "24. Batman (1989)                                      | Genres: Action|Crime|Thriller\n",
      "25. Lord of the Rings: The Two Towers, The (2002)      | Genres: Adventure|Fantasy\n",
      "26. Saving Private Ryan (1998)                         | Genres: Action|Drama|War\n",
      "27. Lord of the Rings: The Return of the King, The (2003) | Genres: Action|Adventure|Drama|Fantasy\n",
      "28. Aladdin (1992)                                     | Genres: Adventure|Animation|Children|Comedy|Musical\n",
      "29. Fargo (1996)                                       | Genres: Comedy|Crime|Drama|Thriller\n",
      "30. Sixth Sense, The (1999)                            | Genres: Drama|Horror|Mystery\n",
      "31. True Lies (1994)                                   | Genres: Action|Adventure|Comedy|Romance|Thriller\n",
      "32. Twelve Monkeys (a.k.a. 12 Monkeys) (1995)          | Genres: Mystery|Sci-Fi|Thriller\n",
      "33. Lion King, The (1994)                              | Genres: Adventure|Animation|Children|Drama|Musical|IMAX\n",
      "34. Back to the Future (1985)                          | Genres: Adventure|Comedy|Sci-Fi\n",
      "35. Speed (1994)                                       | Genres: Action|Romance|Thriller\n",
      "36. Gladiator (2000)                                   | Genres: Action|Adventure|Drama\n",
      "37. Shrek (2001)                                       | Genres: Adventure|Animation|Children|Comedy|Fantasy|Romance\n",
      "38. Men in Black (a.k.a. MIB) (1997)                   | Genres: Action|Comedy|Sci-Fi\n",
      "39. Dances with Wolves (1990)                          | Genres: Adventure|Drama|Western\n",
      "40. Mission: Impossible (1996)                         | Genres: Action|Adventure|Mystery|Thriller\n",
      "41. Ace Ventura: Pet Detective (1994)                  | Genres: Comedy\n",
      "42. Memento (2000)                                     | Genres: Mystery|Thriller\n",
      "43. Mask, The (1994)                                   | Genres: Action|Comedy|Crime|Fantasy\n",
      "44. Dark Knight, The (2008)                            | Genres: Action|Crime|Drama|IMAX\n",
      "45. Pirates of the Caribbean: The Curse of the Black Pearl (2003) | Genres: Action|Adventure|Comedy|Fantasy\n",
      "46. Alien (1979)                                       | Genres: Horror|Sci-Fi\n",
      "47. Beauty and the Beast (1991)                        | Genres: Animation|Children|Fantasy|Musical|Romance|IMAX\n",
      "48. Die Hard (1988)                                    | Genres: Action|Crime|Thriller\n",
      "49. Die Hard: With a Vengeance (1995)                  | Genres: Action|Crime|Thriller\n",
      "50. Mrs. Doubtfire (1993)                              | Genres: Comedy|Drama\n"
     ]
    }
   ],
   "source": [
    "# display top 50 most popular movies that users are likely to have watched\n",
    "# popularity is determined by the number of ratings a movie has received\n",
    "movie_ratings_count = ratings.groupby('movieId').size().reset_index(name='count')\n",
    "popular_movies_df = movies.merge(movie_ratings_count, on='movieId').sort_values('count', ascending=False).head(50)\n",
    "\n",
    "print(\"TOP 50 MOST POPULAR MOVIES IN THE DATASET\")\n",
    "print(\"Pick movies you've watched from this list\")\n",
    "for idx, (_, row) in enumerate(popular_movies_df.iterrows(), 1):\n",
    "    print(f\"{idx:2d}. {row['title']:50s} | Genres: {row['genres']}\")"
   ]
  },
  {
   "cell_type": "markdown",
   "id": "5c556f8a",
   "metadata": {},
   "source": [
    "Now you can pick at least 5 movies from the list above and give each a rating!"
   ]
  },
  {
   "cell_type": "code",
   "execution_count": 141,
   "id": "7063c6ce",
   "metadata": {},
   "outputs": [
    {
     "name": "stdout",
     "output_type": "stream",
     "text": [
      "\n",
      "--------------------------------------------------------------------------------\n",
      "Movies rated so far: 0\n",
      "✓ Recorded: Forrest Gump (1994) = 3.0 stars\n",
      "\n",
      "--------------------------------------------------------------------------------\n",
      "Movies rated so far: 1\n",
      "✓ Recorded: Jurassic Park (1993) = 4.0 stars\n",
      "\n",
      "--------------------------------------------------------------------------------\n",
      "Movies rated so far: 2\n",
      "✓ Recorded: Fight Club (1999) = 5.0 stars\n",
      "\n",
      "--------------------------------------------------------------------------------\n",
      "Movies rated so far: 3\n",
      "✓ Recorded: Saving Private Ryan (1998) = 3.0 stars\n",
      "\n",
      "--------------------------------------------------------------------------------\n",
      "Movies rated so far: 4\n",
      "✓ Recorded: Lion King, The (1994) = 5.0 stars\n",
      "\n",
      "--------------------------------------------------------------------------------\n",
      "Movies rated so far: 5\n",
      "✓ Recorded: Shrek (2001) = 2.0 stars\n",
      "\n",
      "--------------------------------------------------------------------------------\n",
      "Movies rated so far: 6\n",
      "✓ Recorded: Dark Knight, The (2008) = 5.0 stars\n",
      "\n",
      "--------------------------------------------------------------------------------\n",
      "Movies rated so far: 7\n",
      "✓ Recorded: Mrs. Doubtfire (1993) = 5.0 stars\n",
      "\n",
      "--------------------------------------------------------------------------------\n",
      "Movies rated so far: 8\n",
      "✓ Recorded: Mission: Impossible (1996) = 4.0 stars\n",
      "\n",
      "--------------------------------------------------------------------------------\n",
      "Movies rated so far: 9\n",
      "✓ Recorded: Beauty and the Beast (1991) = 4.0 stars\n",
      "Thank you! You've rated 10 movies.\n"
     ]
    }
   ],
   "source": [
    "user_movie_ratings = {}  # dictionary to store {movieId: rating}\n",
    "\n",
    "while len(user_movie_ratings) < 5 or input(\"\\nDo you want to rate another movie? (yes/no): \").lower() == 'yes':\n",
    "    print(\"\\n\" + \"-\"*80)\n",
    "    print(f\"Movies rated so far: {len(user_movie_ratings)}\")\n",
    "    \n",
    "    try:\n",
    "        movie_num = int(input(f\"Enter movie number (1-50): \"))\n",
    "        \n",
    "        if movie_num < 1 or movie_num > 50:\n",
    "            print(\"Please enter a number between 1 and 50.\")\n",
    "            continue\n",
    "        \n",
    "        selected_movie = popular_movies_df.iloc[movie_num - 1]\n",
    "        \n",
    "        # check if user already rated the same movie\n",
    "        if selected_movie['movieId'] in user_movie_ratings:\n",
    "            print(f\"You already rated '{selected_movie['title']}' with {user_movie_ratings[selected_movie['movieId']]} stars.\")\n",
    "            update = input(\"Update rating? (yes/no): \")\n",
    "            if update.lower() != 'yes':\n",
    "                continue\n",
    "        \n",
    "        # get rating\n",
    "        while True:\n",
    "            try:\n",
    "                rating = float(input(f\"Rate '{selected_movie['title']}' (1-5): \"))\n",
    "                if 1 <= rating <= 5:\n",
    "                    user_movie_ratings[selected_movie['movieId']] = rating\n",
    "                    print(f\"✓ Recorded: {selected_movie['title']} = {rating} stars\")\n",
    "                    break\n",
    "                else:\n",
    "                    print(\"Please enter a rating between 1 and 5\")\n",
    "            except ValueError:\n",
    "                print(\"Please enter a valid number\")\n",
    "        \n",
    "    except ValueError:\n",
    "        print(\"Invalid input. Please enter a number.\")\n",
    "        continue\n",
    "    \n",
    "    if len(user_movie_ratings) >= 5:\n",
    "        continue_rating = input(\"You've rated enough! Continue rating more? (yes/no): \")\n",
    "        if continue_rating.lower() != 'yes':\n",
    "            break\n",
    "\n",
    "print(f\"Thank you! You've rated {len(user_movie_ratings)} movies.\")"
   ]
  },
  {
   "cell_type": "code",
   "execution_count": 142,
   "id": "55d56e5e",
   "metadata": {},
   "outputs": [
    {
     "name": "stdout",
     "output_type": "stream",
     "text": [
      "\n",
      "YOUR RATINGS SUMMARY:\n",
      "================================================================================\n",
      "5.0 ⭐⭐⭐⭐⭐      Lion King, The (1994)\n",
      "     Genres: Adventure|Animation|Children|Drama|Musical|IMAX\n",
      "\n",
      "5.0 ⭐⭐⭐⭐⭐      Mrs. Doubtfire (1993)\n",
      "     Genres: Comedy|Drama\n",
      "\n",
      "5.0 ⭐⭐⭐⭐⭐      Fight Club (1999)\n",
      "     Genres: Action|Crime|Drama|Thriller\n",
      "\n",
      "5.0 ⭐⭐⭐⭐⭐      Dark Knight, The (2008)\n",
      "     Genres: Action|Crime|Drama|IMAX\n",
      "\n",
      "4.0 ⭐⭐⭐⭐       Jurassic Park (1993)\n",
      "     Genres: Action|Adventure|Sci-Fi|Thriller\n",
      "\n",
      "4.0 ⭐⭐⭐⭐       Beauty and the Beast (1991)\n",
      "     Genres: Animation|Children|Fantasy|Musical|Romance|IMAX\n",
      "\n",
      "4.0 ⭐⭐⭐⭐       Mission: Impossible (1996)\n",
      "     Genres: Action|Adventure|Mystery|Thriller\n",
      "\n",
      "3.0 ⭐⭐⭐        Forrest Gump (1994)\n",
      "     Genres: Comedy|Drama|Romance|War\n",
      "\n",
      "3.0 ⭐⭐⭐        Saving Private Ryan (1998)\n",
      "     Genres: Action|Drama|War\n",
      "\n",
      "2.0 ⭐⭐         Shrek (2001)\n",
      "     Genres: Adventure|Animation|Children|Comedy|Fantasy|Romance\n",
      "\n"
     ]
    }
   ],
   "source": [
    "# display your ratings summary\n",
    "print(\"\\nYOUR RATINGS SUMMARY:\")\n",
    "print(\"=\"*80)\n",
    "rated_movies_df = movies[movies['movieId'].isin(user_movie_ratings.keys())].copy()\n",
    "rated_movies_df['your_rating'] = rated_movies_df['movieId'].map(user_movie_ratings)\n",
    "rated_movies_df = rated_movies_df.sort_values('your_rating', ascending=False)\n",
    "\n",
    "for _, row in rated_movies_df.iterrows():\n",
    "    stars = '⭐' * int(row['your_rating'])\n",
    "    print(f\"{row['your_rating']:.1f} {stars:10s} {row['title']}\")\n",
    "    print(f\"     Genres: {row['genres']}\")\n",
    "    print()"
   ]
  },
  {
   "cell_type": "code",
   "execution_count": 143,
   "id": "2cc7b82e",
   "metadata": {},
   "outputs": [
    {
     "name": "stdout",
     "output_type": "stream",
     "text": [
      "Found similar users based on your taste!\n",
      "\n",
      "Generated predictions for 8988 movies!\n"
     ]
    }
   ],
   "source": [
    "# get all movies that the user hasn't rated\n",
    "all_movie_ids = movies['movieId'].values\n",
    "unrated_movie_ids = [mid for mid in all_movie_ids if mid not in user_movie_ratings.keys()]\n",
    "\n",
    "# get the encoding mappings from training data\n",
    "user_mapping, _, _ = proc_col(train['userId'])\n",
    "movie_mapping, _, _ = proc_col(train['movieId'])\n",
    "\n",
    "# find similar users based on your ratings\n",
    "similar_users = []\n",
    "for rated_movie_id, rating in user_movie_ratings.items():\n",
    "    similar_user_ratings = train[\n",
    "        (train['movieId'] == rated_movie_id) & \n",
    "        (abs(train['rating'] - rating) <= 1)\n",
    "    ]['userId'].values\n",
    "    similar_users.extend(similar_user_ratings)\n",
    "\n",
    "# get the most similar user\n",
    "from collections import Counter\n",
    "if similar_users:\n",
    "    most_common_user = Counter(similar_users).most_common(1)[0][0]\n",
    "    encoded_user = user_mapping[most_common_user]\n",
    "    print(f\"Found similar users based on your taste!\")\n",
    "else:\n",
    "    # fallback to a random active user\n",
    "    encoded_user = 0\n",
    "    print(\"Using default user profile...\")\n",
    "\n",
    "# generating predictions\n",
    "predictions = []\n",
    "model.eval()\n",
    "\n",
    "with torch.no_grad():\n",
    "    for movie_id in unrated_movie_ids:\n",
    "        if movie_id in movie_mapping:\n",
    "            encoded_movie = movie_mapping[movie_id]\n",
    "            \n",
    "            u_tensor = torch.LongTensor([encoded_user])\n",
    "            v_tensor = torch.LongTensor([encoded_movie])\n",
    "            \n",
    "            pred_rating = model(u_tensor, v_tensor).item()\n",
    "            pred_rating = max(0.5, min(5.0, pred_rating))\n",
    "            \n",
    "            predictions.append({\n",
    "                'movieId': movie_id,\n",
    "                'predicted_rating': pred_rating\n",
    "            })\n",
    "\n",
    "# convert to dataframe and sort by predicted rating\n",
    "predictions_df = pd.DataFrame(predictions)\n",
    "predictions_df = predictions_df.merge(movies, on='movieId')\n",
    "predictions_df = predictions_df.sort_values('predicted_rating', ascending=False)\n",
    "\n",
    "print(f\"\\nGenerated predictions for {len(predictions_df)} movies!\")"
   ]
  },
  {
   "cell_type": "code",
   "execution_count": 144,
   "id": "d383b018",
   "metadata": {},
   "outputs": [
    {
     "name": "stdout",
     "output_type": "stream",
     "text": [
      "\n",
      "================================================================================\n",
      "🎬 TOP 10 MOVIE RECOMMENDATIONS FOR YOU 🎬\n",
      "================================================================================\n",
      "\n",
      "1. Wild Parrots of Telegraph Hill, The (2003)\n",
      "   Predicted Rating: 4.59 ⭐\n",
      "   Genres: Documentary\n",
      "\n",
      "2. Heidi Fleiss: Hollywood Madam (1995)\n",
      "   Predicted Rating: 4.55 ⭐\n",
      "   Genres: Documentary\n",
      "\n",
      "3. Man Bites Dog (C'est arrivé près de chez vous) (1992)\n",
      "   Predicted Rating: 4.55 ⭐\n",
      "   Genres: Comedy|Crime|Drama|Thriller\n",
      "\n",
      "4. I Am Not Your Negro (2017)\n",
      "   Predicted Rating: 4.51 ⭐\n",
      "   Genres: Documentary\n",
      "\n",
      "5. Guess Who's Coming to Dinner (1967)\n",
      "   Predicted Rating: 4.51 ⭐\n",
      "   Genres: Drama\n",
      "\n",
      "6. Come and See (Idi i smotri) (1985)\n",
      "   Predicted Rating: 4.47 ⭐\n",
      "   Genres: Drama|War\n",
      "\n",
      "7. Indignation (2016)\n",
      "   Predicted Rating: 4.46 ⭐\n",
      "   Genres: Drama\n",
      "\n",
      "8. Act of Killing, The (2012)\n",
      "   Predicted Rating: 4.46 ⭐\n",
      "   Genres: Documentary\n",
      "\n",
      "9. On the Beach (1959)\n",
      "   Predicted Rating: 4.46 ⭐\n",
      "   Genres: Drama\n",
      "\n",
      "10. Crossing Delancey (1988)\n",
      "   Predicted Rating: 4.46 ⭐\n",
      "   Genres: Comedy|Romance\n",
      "\n",
      "================================================================================\n"
     ]
    }
   ],
   "source": [
    "# Display top 10 recommendations\n",
    "print(\"\\n\" + \"=\"*80)\n",
    "print(\"🎬 TOP 10 MOVIE RECOMMENDATIONS FOR YOU 🎬\")\n",
    "print(\"=\"*80)\n",
    "\n",
    "top_recommendations = predictions_df.head(10)\n",
    "for idx, (_, row) in enumerate(top_recommendations.iterrows(), 1):\n",
    "    print(f\"\\n{idx}. {row['title']}\")\n",
    "    print(f\"   Predicted Rating: {row['predicted_rating']:.2f} ⭐\")\n",
    "    print(f\"   Genres: {row['genres']}\")\n",
    "\n",
    "print(\"\\n\" + \"=\"*80)"
   ]
  }
 ],
 "metadata": {
  "kernelspec": {
   "display_name": "Python 3",
   "language": "python",
   "name": "python3"
  },
  "language_info": {
   "codemirror_mode": {
    "name": "ipython",
    "version": 3
   },
   "file_extension": ".py",
   "mimetype": "text/x-python",
   "name": "python",
   "nbconvert_exporter": "python",
   "pygments_lexer": "ipython3",
   "version": "3.13.1"
  }
 },
 "nbformat": 4,
 "nbformat_minor": 5
}
